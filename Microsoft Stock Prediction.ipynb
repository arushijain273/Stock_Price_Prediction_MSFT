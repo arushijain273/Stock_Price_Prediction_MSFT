{
 "cells": [
  {
   "cell_type": "code",
   "execution_count": 1,
   "id": "afe9daf7",
   "metadata": {},
   "outputs": [],
   "source": [
    "import pandas as pd"
   ]
  },
  {
   "cell_type": "code",
   "execution_count": 2,
   "id": "47165064",
   "metadata": {},
   "outputs": [],
   "source": [
    "df = pd.read_csv(\"MSFT.csv\")"
   ]
  },
  {
   "cell_type": "code",
   "execution_count": 7,
   "id": "f8c41392",
   "metadata": {},
   "outputs": [
    {
     "data": {
      "text/html": [
       "<div>\n",
       "<style scoped>\n",
       "    .dataframe tbody tr th:only-of-type {\n",
       "        vertical-align: middle;\n",
       "    }\n",
       "\n",
       "    .dataframe tbody tr th {\n",
       "        vertical-align: top;\n",
       "    }\n",
       "\n",
       "    .dataframe thead th {\n",
       "        text-align: right;\n",
       "    }\n",
       "</style>\n",
       "<table border=\"1\" class=\"dataframe\">\n",
       "  <thead>\n",
       "    <tr style=\"text-align: right;\">\n",
       "      <th></th>\n",
       "      <th>Date</th>\n",
       "      <th>Open</th>\n",
       "      <th>High</th>\n",
       "      <th>Low</th>\n",
       "      <th>Close</th>\n",
       "      <th>Adj Close</th>\n",
       "      <th>Volume</th>\n",
       "    </tr>\n",
       "  </thead>\n",
       "  <tbody>\n",
       "    <tr>\n",
       "      <th>0</th>\n",
       "      <td>2021-06-07</td>\n",
       "      <td>249.979996</td>\n",
       "      <td>254.089996</td>\n",
       "      <td>249.809998</td>\n",
       "      <td>253.809998</td>\n",
       "      <td>251.754288</td>\n",
       "      <td>23079200</td>\n",
       "    </tr>\n",
       "    <tr>\n",
       "      <th>1</th>\n",
       "      <td>2021-06-08</td>\n",
       "      <td>255.160004</td>\n",
       "      <td>256.010010</td>\n",
       "      <td>252.509995</td>\n",
       "      <td>252.570007</td>\n",
       "      <td>250.524353</td>\n",
       "      <td>22455000</td>\n",
       "    </tr>\n",
       "    <tr>\n",
       "      <th>2</th>\n",
       "      <td>2021-06-09</td>\n",
       "      <td>253.809998</td>\n",
       "      <td>255.529999</td>\n",
       "      <td>253.210007</td>\n",
       "      <td>253.589996</td>\n",
       "      <td>251.536072</td>\n",
       "      <td>17937600</td>\n",
       "    </tr>\n",
       "    <tr>\n",
       "      <th>3</th>\n",
       "      <td>2021-06-10</td>\n",
       "      <td>254.289993</td>\n",
       "      <td>257.459991</td>\n",
       "      <td>253.669998</td>\n",
       "      <td>257.239990</td>\n",
       "      <td>255.156509</td>\n",
       "      <td>24563600</td>\n",
       "    </tr>\n",
       "    <tr>\n",
       "      <th>4</th>\n",
       "      <td>2021-06-11</td>\n",
       "      <td>257.989990</td>\n",
       "      <td>258.489990</td>\n",
       "      <td>256.609985</td>\n",
       "      <td>257.890015</td>\n",
       "      <td>255.801254</td>\n",
       "      <td>18999700</td>\n",
       "    </tr>\n",
       "  </tbody>\n",
       "</table>\n",
       "</div>"
      ],
      "text/plain": [
       "         Date        Open        High         Low       Close   Adj Close  \\\n",
       "0  2021-06-07  249.979996  254.089996  249.809998  253.809998  251.754288   \n",
       "1  2021-06-08  255.160004  256.010010  252.509995  252.570007  250.524353   \n",
       "2  2021-06-09  253.809998  255.529999  253.210007  253.589996  251.536072   \n",
       "3  2021-06-10  254.289993  257.459991  253.669998  257.239990  255.156509   \n",
       "4  2021-06-11  257.989990  258.489990  256.609985  257.890015  255.801254   \n",
       "\n",
       "     Volume  \n",
       "0  23079200  \n",
       "1  22455000  \n",
       "2  17937600  \n",
       "3  24563600  \n",
       "4  18999700  "
      ]
     },
     "execution_count": 7,
     "metadata": {},
     "output_type": "execute_result"
    }
   ],
   "source": [
    "df.head()"
   ]
  },
  {
   "cell_type": "code",
   "execution_count": 3,
   "id": "36f00860",
   "metadata": {},
   "outputs": [
    {
     "data": {
      "text/html": [
       "<div>\n",
       "<style scoped>\n",
       "    .dataframe tbody tr th:only-of-type {\n",
       "        vertical-align: middle;\n",
       "    }\n",
       "\n",
       "    .dataframe tbody tr th {\n",
       "        vertical-align: top;\n",
       "    }\n",
       "\n",
       "    .dataframe thead th {\n",
       "        text-align: right;\n",
       "    }\n",
       "</style>\n",
       "<table border=\"1\" class=\"dataframe\">\n",
       "  <thead>\n",
       "    <tr style=\"text-align: right;\">\n",
       "      <th></th>\n",
       "      <th>Open</th>\n",
       "      <th>High</th>\n",
       "      <th>Low</th>\n",
       "      <th>Close</th>\n",
       "      <th>Adj Close</th>\n",
       "      <th>Volume</th>\n",
       "    </tr>\n",
       "  </thead>\n",
       "  <tbody>\n",
       "    <tr>\n",
       "      <th>count</th>\n",
       "      <td>253.000000</td>\n",
       "      <td>253.000000</td>\n",
       "      <td>253.000000</td>\n",
       "      <td>253.000000</td>\n",
       "      <td>253.000000</td>\n",
       "      <td>2.530000e+02</td>\n",
       "    </tr>\n",
       "    <tr>\n",
       "      <th>mean</th>\n",
       "      <td>297.265415</td>\n",
       "      <td>300.217431</td>\n",
       "      <td>293.866719</td>\n",
       "      <td>297.208300</td>\n",
       "      <td>295.765134</td>\n",
       "      <td>2.926120e+07</td>\n",
       "    </tr>\n",
       "    <tr>\n",
       "      <th>std</th>\n",
       "      <td>23.167453</td>\n",
       "      <td>23.026148</td>\n",
       "      <td>23.094445</td>\n",
       "      <td>23.051496</td>\n",
       "      <td>22.943377</td>\n",
       "      <td>1.110086e+07</td>\n",
       "    </tr>\n",
       "    <tr>\n",
       "      <th>min</th>\n",
       "      <td>249.979996</td>\n",
       "      <td>254.089996</td>\n",
       "      <td>246.440002</td>\n",
       "      <td>252.559998</td>\n",
       "      <td>250.524353</td>\n",
       "      <td>1.390020e+07</td>\n",
       "    </tr>\n",
       "    <tr>\n",
       "      <th>25%</th>\n",
       "      <td>282.119995</td>\n",
       "      <td>286.420013</td>\n",
       "      <td>278.529999</td>\n",
       "      <td>281.029999</td>\n",
       "      <td>280.067688</td>\n",
       "      <td>2.185340e+07</td>\n",
       "    </tr>\n",
       "    <tr>\n",
       "      <th>50%</th>\n",
       "      <td>296.220001</td>\n",
       "      <td>298.720001</td>\n",
       "      <td>293.489990</td>\n",
       "      <td>296.029999</td>\n",
       "      <td>294.732697</td>\n",
       "      <td>2.720930e+07</td>\n",
       "    </tr>\n",
       "    <tr>\n",
       "      <th>75%</th>\n",
       "      <td>309.630005</td>\n",
       "      <td>312.380005</td>\n",
       "      <td>306.459991</td>\n",
       "      <td>310.200012</td>\n",
       "      <td>308.833160</td>\n",
       "      <td>3.426400e+07</td>\n",
       "    </tr>\n",
       "    <tr>\n",
       "      <th>max</th>\n",
       "      <td>344.619995</td>\n",
       "      <td>349.670013</td>\n",
       "      <td>342.200012</td>\n",
       "      <td>343.109985</td>\n",
       "      <td>341.606384</td>\n",
       "      <td>9.042890e+07</td>\n",
       "    </tr>\n",
       "  </tbody>\n",
       "</table>\n",
       "</div>"
      ],
      "text/plain": [
       "             Open        High         Low       Close   Adj Close  \\\n",
       "count  253.000000  253.000000  253.000000  253.000000  253.000000   \n",
       "mean   297.265415  300.217431  293.866719  297.208300  295.765134   \n",
       "std     23.167453   23.026148   23.094445   23.051496   22.943377   \n",
       "min    249.979996  254.089996  246.440002  252.559998  250.524353   \n",
       "25%    282.119995  286.420013  278.529999  281.029999  280.067688   \n",
       "50%    296.220001  298.720001  293.489990  296.029999  294.732697   \n",
       "75%    309.630005  312.380005  306.459991  310.200012  308.833160   \n",
       "max    344.619995  349.670013  342.200012  343.109985  341.606384   \n",
       "\n",
       "             Volume  \n",
       "count  2.530000e+02  \n",
       "mean   2.926120e+07  \n",
       "std    1.110086e+07  \n",
       "min    1.390020e+07  \n",
       "25%    2.185340e+07  \n",
       "50%    2.720930e+07  \n",
       "75%    3.426400e+07  \n",
       "max    9.042890e+07  "
      ]
     },
     "execution_count": 3,
     "metadata": {},
     "output_type": "execute_result"
    }
   ],
   "source": [
    "df.describe()"
   ]
  },
  {
   "cell_type": "code",
   "execution_count": 4,
   "id": "a1be0253",
   "metadata": {},
   "outputs": [
    {
     "data": {
      "text/plain": [
       "Date          object\n",
       "Open         float64\n",
       "High         float64\n",
       "Low          float64\n",
       "Close        float64\n",
       "Adj Close    float64\n",
       "Volume         int64\n",
       "dtype: object"
      ]
     },
     "execution_count": 4,
     "metadata": {},
     "output_type": "execute_result"
    }
   ],
   "source": [
    "df.dtypes"
   ]
  },
  {
   "cell_type": "code",
   "execution_count": 9,
   "id": "78c8e7c1",
   "metadata": {},
   "outputs": [],
   "source": [
    "import matplotlib.pyplot as plt"
   ]
  },
  {
   "cell_type": "code",
   "execution_count": null,
   "id": "558da881",
   "metadata": {},
   "outputs": [],
   "source": []
  },
  {
   "cell_type": "code",
   "execution_count": 18,
   "id": "e64bea08",
   "metadata": {},
   "outputs": [
    {
     "data": {
      "text/plain": [
       "0      2021-06-07\n",
       "1      2021-06-08\n",
       "2      2021-06-09\n",
       "3      2021-06-10\n",
       "4      2021-06-11\n",
       "          ...    \n",
       "248    2022-05-31\n",
       "249    2022-06-01\n",
       "250    2022-06-02\n",
       "251    2022-06-03\n",
       "252    2022-06-06\n",
       "Name: Date, Length: 253, dtype: object"
      ]
     },
     "execution_count": 18,
     "metadata": {},
     "output_type": "execute_result"
    }
   ],
   "source": [
    "df.Date"
   ]
  },
  {
   "cell_type": "code",
   "execution_count": 19,
   "id": "8b4c2622",
   "metadata": {},
   "outputs": [
    {
     "data": {
      "text/plain": [
       "[<matplotlib.lines.Line2D at 0x21aa6fc8340>]"
      ]
     },
     "execution_count": 19,
     "metadata": {},
     "output_type": "execute_result"
    },
    {
     "data": {
      "image/png": "[encoded data removed]",
      "text/plain": [
       "<Figure size 864x432 with 1 Axes>"
      ]
     },
     "metadata": {
      "needs_background": "light"
     },
     "output_type": "display_data"
    }
   ],
   "source": [
    "plt.figure(figsize = (12, 6))\n",
    "plt.title(\"Close Prices in 21-22\")\n",
    "plt.xlabel(\"Number of Days\")\n",
    "plt.ylabel(\"Stock Price\")\n",
    "plt.plot(df.Close)"
   ]
  },
  {
   "cell_type": "code",
   "execution_count": 20,
   "id": "069f7e79",
   "metadata": {},
   "outputs": [],
   "source": [
    "import seaborn as sns"
   ]
  },
  {
   "cell_type": "code",
   "execution_count": 22,
   "id": "cf7ae358",
   "metadata": {},
   "outputs": [
    {
     "data": {
      "text/html": [
       "<div>\n",
       "<style scoped>\n",
       "    .dataframe tbody tr th:only-of-type {\n",
       "        vertical-align: middle;\n",
       "    }\n",
       "\n",
       "    .dataframe tbody tr th {\n",
       "        vertical-align: top;\n",
       "    }\n",
       "\n",
       "    .dataframe thead th {\n",
       "        text-align: right;\n",
       "    }\n",
       "</style>\n",
       "<table border=\"1\" class=\"dataframe\">\n",
       "  <thead>\n",
       "    <tr style=\"text-align: right;\">\n",
       "      <th></th>\n",
       "      <th>Open</th>\n",
       "      <th>High</th>\n",
       "      <th>Low</th>\n",
       "      <th>Close</th>\n",
       "      <th>Adj Close</th>\n",
       "      <th>Volume</th>\n",
       "    </tr>\n",
       "  </thead>\n",
       "  <tbody>\n",
       "    <tr>\n",
       "      <th>Open</th>\n",
       "      <td>1.000000</td>\n",
       "      <td>0.993790</td>\n",
       "      <td>0.991221</td>\n",
       "      <td>0.981903</td>\n",
       "      <td>0.981882</td>\n",
       "      <td>-0.043146</td>\n",
       "    </tr>\n",
       "    <tr>\n",
       "      <th>High</th>\n",
       "      <td>0.993790</td>\n",
       "      <td>1.000000</td>\n",
       "      <td>0.989507</td>\n",
       "      <td>0.990821</td>\n",
       "      <td>0.991699</td>\n",
       "      <td>-0.004954</td>\n",
       "    </tr>\n",
       "    <tr>\n",
       "      <th>Low</th>\n",
       "      <td>0.991221</td>\n",
       "      <td>0.989507</td>\n",
       "      <td>1.000000</td>\n",
       "      <td>0.991315</td>\n",
       "      <td>0.989924</td>\n",
       "      <td>-0.116917</td>\n",
       "    </tr>\n",
       "    <tr>\n",
       "      <th>Close</th>\n",
       "      <td>0.981903</td>\n",
       "      <td>0.990821</td>\n",
       "      <td>0.991315</td>\n",
       "      <td>1.000000</td>\n",
       "      <td>0.999591</td>\n",
       "      <td>-0.065981</td>\n",
       "    </tr>\n",
       "    <tr>\n",
       "      <th>Adj Close</th>\n",
       "      <td>0.981882</td>\n",
       "      <td>0.991699</td>\n",
       "      <td>0.989924</td>\n",
       "      <td>0.999591</td>\n",
       "      <td>1.000000</td>\n",
       "      <td>-0.054447</td>\n",
       "    </tr>\n",
       "    <tr>\n",
       "      <th>Volume</th>\n",
       "      <td>-0.043146</td>\n",
       "      <td>-0.004954</td>\n",
       "      <td>-0.116917</td>\n",
       "      <td>-0.065981</td>\n",
       "      <td>-0.054447</td>\n",
       "      <td>1.000000</td>\n",
       "    </tr>\n",
       "  </tbody>\n",
       "</table>\n",
       "</div>"
      ],
      "text/plain": [
       "               Open      High       Low     Close  Adj Close    Volume\n",
       "Open       1.000000  0.993790  0.991221  0.981903   0.981882 -0.043146\n",
       "High       0.993790  1.000000  0.989507  0.990821   0.991699 -0.004954\n",
       "Low        0.991221  0.989507  1.000000  0.991315   0.989924 -0.116917\n",
       "Close      0.981903  0.990821  0.991315  1.000000   0.999591 -0.065981\n",
       "Adj Close  0.981882  0.991699  0.989924  0.999591   1.000000 -0.054447\n",
       "Volume    -0.043146 -0.004954 -0.116917 -0.065981  -0.054447  1.000000"
      ]
     },
     "execution_count": 22,
     "metadata": {},
     "output_type": "execute_result"
    }
   ],
   "source": [
    "df.corr()"
   ]
  },
  {
   "cell_type": "code",
   "execution_count": 23,
   "id": "679ab45e",
   "metadata": {},
   "outputs": [
    {
     "data": {
      "text/plain": [
       "<AxesSubplot:>"
      ]
     },
     "execution_count": 23,
     "metadata": {},
     "output_type": "execute_result"
    },
    {
     "data": {
      "image/png": "[encoded data removed]",
      "text/plain": [
       "<Figure size 432x288 with 2 Axes>"
      ]
     },
     "metadata": {
      "needs_background": "light"
     },
     "output_type": "display_data"
    }
   ],
   "source": [
    "sns.heatmap(df.corr())"
   ]
  },
  {
   "cell_type": "code",
   "execution_count": 37,
   "id": "485e7283",
   "metadata": {},
   "outputs": [],
   "source": [
    "x = df[[\"Open\", \"High\", \"Low\"]]\n",
    "y = df.Close\n",
    "x = x.to_numpy() ##to change from pandas datafram to numpy array\n",
    "y = y.to_numpy()\n",
    "type(x)\n",
    "y = y.reshape(-1,1) ## -1 asks numpy to use the rows as it sees, 1 says use 1 column. \n",
    "## to make this compatible for matrix multiplication with x\n"
   ]
  },
  {
   "cell_type": "code",
   "execution_count": 38,
   "id": "3b562cea",
   "metadata": {},
   "outputs": [],
   "source": [
    "from sklearn.model_selection import train_test_split\n",
    "xtrain, xtest, ytrain, ytest = train_test_split(x,y, test_size = 0.2, random_state = 42)"
   ]
  },
  {
   "cell_type": "code",
   "execution_count": 46,
   "id": "48cfb874",
   "metadata": {},
   "outputs": [
    {
     "data": {
      "text/html": [
       "<div>\n",
       "<style scoped>\n",
       "    .dataframe tbody tr th:only-of-type {\n",
       "        vertical-align: middle;\n",
       "    }\n",
       "\n",
       "    .dataframe tbody tr th {\n",
       "        vertical-align: top;\n",
       "    }\n",
       "\n",
       "    .dataframe thead th {\n",
       "        text-align: right;\n",
       "    }\n",
       "</style>\n",
       "<table border=\"1\" class=\"dataframe\">\n",
       "  <thead>\n",
       "    <tr style=\"text-align: right;\">\n",
       "      <th></th>\n",
       "      <th>Predicted Price</th>\n",
       "    </tr>\n",
       "  </thead>\n",
       "  <tbody>\n",
       "    <tr>\n",
       "      <th>0</th>\n",
       "      <td>308.760010</td>\n",
       "    </tr>\n",
       "    <tr>\n",
       "      <th>1</th>\n",
       "      <td>259.890015</td>\n",
       "    </tr>\n",
       "    <tr>\n",
       "      <th>2</th>\n",
       "      <td>286.220001</td>\n",
       "    </tr>\n",
       "    <tr>\n",
       "      <th>3</th>\n",
       "      <td>310.200012</td>\n",
       "    </tr>\n",
       "    <tr>\n",
       "      <th>4</th>\n",
       "      <td>341.250000</td>\n",
       "    </tr>\n",
       "  </tbody>\n",
       "</table>\n",
       "</div>"
      ],
      "text/plain": [
       "   Predicted Price\n",
       "0       308.760010\n",
       "1       259.890015\n",
       "2       286.220001\n",
       "3       310.200012\n",
       "4       341.250000"
      ]
     },
     "execution_count": 46,
     "metadata": {},
     "output_type": "execute_result"
    }
   ],
   "source": [
    "from sklearn.tree import DecisionTreeRegressor\n",
    "model = DecisionTreeRegressor()\n",
    "model.fit(xtrain, ytrain)\n",
    "ypred = model.predict(xtest)\n",
    "data = pd.DataFrame(data ={\"Predicted Price\": ypred} )\n",
    "data.head()"
   ]
  },
  {
   "cell_type": "code",
   "execution_count": 62,
   "id": "16b9235f",
   "metadata": {},
   "outputs": [
    {
     "data": {
      "text/plain": [
       "[<matplotlib.lines.Line2D at 0x21aaa58c190>]"
      ]
     },
     "execution_count": 62,
     "metadata": {},
     "output_type": "execute_result"
    },
    {
     "data": {
      "image/png": "[encoded data removed]",
      "text/plain": [
       "<Figure size 864x432 with 1 Axes>"
      ]
     },
     "metadata": {
      "needs_background": "light"
     },
     "output_type": "display_data"
    }
   ],
   "source": [
    "plt.figure(figsize = (12, 6))\n",
    "#plt.title(\"Predicted Price for next 50 days\")\n",
    "#plt.xlabel(\"Days\")\n",
    "#plt.ylabel(\"Price\")\n",
    "plt.plot(ypred)"
   ]
  },
  {
   "cell_type": "code",
   "execution_count": null,
   "id": "35dd3398",
   "metadata": {},
   "outputs": [],
   "source": []
  },
  {
   "cell_type": "code",
   "execution_count": null,
   "id": "b47eca95",
   "metadata": {},
   "outputs": [],
   "source": []
  }
 ],
 "metadata": {
  "kernelspec": {
   "display_name": "Python 3",
   "language": "python",
   "name": "python3"
  },
  "language_info": {
   "codemirror_mode": {
    "name": "ipython",
    "version": 3
   },
   "file_extension": ".py",
   "mimetype": "text/x-python",
   "name": "python",
   "nbconvert_exporter": "python",
   "pygments_lexer": "ipython3",
   "version": "3.8.8"
  }
 },
 "nbformat": 4,
 "nbformat_minor": 5
}
